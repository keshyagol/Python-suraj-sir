{
 "cells": [
  {
   "cell_type": "code",
   "execution_count": 2,
   "metadata": {},
   "outputs": [
    {
     "name": "stdout",
     "output_type": "stream",
     "text": [
      "Number of ticks since 12:00am, January 1, 1970: 1515249698.38\n"
     ]
    }
   ],
   "source": [
    "#!/usr/bin/python\n",
    "import time\n",
    "\n",
    "ticks = time.time()\n",
    "print \"Number of ticks since 12:00am, January 1, 1970:\", ticks"
   ]
  },
  {
   "cell_type": "code",
   "execution_count": 3,
   "metadata": {},
   "outputs": [
    {
     "name": "stdout",
     "output_type": "stream",
     "text": [
      "Local current time : time.struct_time(tm_year=2018, tm_mon=1, tm_mday=6, tm_hour=20, tm_min=13, tm_sec=8, tm_wday=5, tm_yday=6, tm_isdst=0)\n"
     ]
    }
   ],
   "source": [
    "localtime = time.localtime(time.time())\n",
    "print \"Local current time :\", localtime"
   ]
  },
  {
   "cell_type": "code",
   "execution_count": 4,
   "metadata": {},
   "outputs": [
    {
     "name": "stdout",
     "output_type": "stream",
     "text": [
      "Local current time : Sat Jan  6 20:14:54 2018\n"
     ]
    }
   ],
   "source": [
    "localtime = time.asctime( time.localtime(time.time()) )\n",
    "print \"Local current time :\", localtime"
   ]
  },
  {
   "cell_type": "code",
   "execution_count": 5,
   "metadata": {},
   "outputs": [
    {
     "name": "stdout",
     "output_type": "stream",
     "text": [
      "π: 3.141592653589793115997963468544\n",
      "e: 2.718281828459045090795598298428\n"
     ]
    }
   ],
   "source": [
    "import math\n",
    "\n",
    "print 'π: %.30f' % math.pi\n",
    "print 'e: %.30f' % math.e"
   ]
  },
  {
   "cell_type": "code",
   "execution_count": 7,
   "metadata": {
    "scrolled": false
   },
   "outputs": [
    {
     "data": {
      "text/plain": [
       "1"
      ]
     },
     "execution_count": 7,
     "metadata": {},
     "output_type": "execute_result"
    }
   ],
   "source": [
    "math.ceil(1.001)    # returns 2\n",
    "math.floor(1.001)   # returns 1\n",
    "math.factorial(10)  # returns 3628800\n",
    "\n",
    " \n",
    "math.trunc(1.001)   # returns 1\n",
    "math.trunc(1.999)   # returns 1"
   ]
  },
  {
   "cell_type": "code",
   "execution_count": 8,
   "metadata": {},
   "outputs": [
    {
     "name": "stdout",
     "output_type": "stream",
     "text": [
      "3.0\n",
      "1.73205080757\n"
     ]
    }
   ],
   "source": [
    "print math.sqrt(9.0)\n",
    "print math.sqrt(3)"
   ]
  },
  {
   "cell_type": "code",
   "execution_count": 9,
   "metadata": {},
   "outputs": [
    {
     "data": {
      "text/plain": [
       "0.7853981633974484"
      ]
     },
     "execution_count": 9,
     "metadata": {},
     "output_type": "execute_result"
    }
   ],
   "source": [
    "math.sin(math.pi/4)    # returns 0.7071067811865476\n",
    "math.cos(math.pi)      # returns -1.0\n",
    "math.tan(math.pi/6)    # returns 0.5773502691896257\n",
    "math.hypot(12,5)       # returns 13.0\n",
    " \n",
    "math.atan(0.5773502691896257) # returns 0.5235987755982988\n",
    "math.asin(0.7071067811865476) # returns 0.7853981633974484"
   ]
  },
  {
   "cell_type": "code",
   "execution_count": null,
   "metadata": {
    "collapsed": true
   },
   "outputs": [],
   "source": [
    "import math\n",
    " \n",
    "math.sinh(math.pi)    # returns 11.548739357257746\n",
    "math.cosh(math.pi)    # returns 11.591953275521519\n",
    "math.cosh(math.pi)    # returns 0.99627207622075\n",
    " \n",
    "math.asinh(11.548739357257746)   # returns 3.141592653589793\n",
    "math.acosh(11.591953275521519)   # returns 3.141592653589793\n",
    "math.atanh(0.99627207622075)     # returns 3.141592653589798"
   ]
  }
 ],
 "metadata": {
  "kernelspec": {
   "display_name": "Python 2",
   "language": "python",
   "name": "python2"
  },
  "language_info": {
   "codemirror_mode": {
    "name": "ipython",
    "version": 2
   },
   "file_extension": ".py",
   "mimetype": "text/x-python",
   "name": "python",
   "nbconvert_exporter": "python",
   "pygments_lexer": "ipython2",
   "version": "2.7.12"
  }
 },
 "nbformat": 4,
 "nbformat_minor": 2
}
