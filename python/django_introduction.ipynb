{
 "cells": [
  {
   "cell_type": "markdown",
   "metadata": {},
   "source": [
    "## What is Django?\n",
    "\n",
    "Django (/ˈdʒæŋɡoʊ/ jang-goh) is a free and open source web application framework, written in Python. A web framework is a set of components that helps you to develop websites faster and easier.\n",
    "\n",
    "### Creating a Django Project Directory\n",
    "\n",
    "> mkdir project_name\n",
    "<br>\n",
    "> cd project_name\n",
    "\n",
    "### Virtual Environment\n",
    "\n",
    "> python3 -m venv myvenv\n",
    "\n",
    "#### Starting a virtual environment\n",
    "\n",
    "> source myvenv/bin/activate (Linux)\n",
    "<br><br>\n",
    "> myvenv\\Scripts\\activate (Windows)\n",
    "\n",
    "#### Installing Django\n",
    "\n",
    "> (myvenv) ~$ python3 -m pip install --upgrade pip\n",
    "\n",
    "<p>Create requirements.txt file inside the project directory and add Django to it</p>\n",
    "\n",
    "> (myvenv) ~$ pip install -r requirements.txt\n",
    "\n",
    "#### Creating a Django Project\n",
    "\n",
    "> (myvenv) ~/<proj_dir>$ django-admin startproject mysite . (Linux)\n",
    "<br><br>\n",
    "> (myvenv) C:\\Users\\Name\\PROJ_DIR> django-admin.exe startproject mysite . (Windows)\n",
    "\n",
    "<p>Add allowed hosts to manage.py</p>\n",
    "\n",
    "<p>ALLOWED_HOSTS = ['127.0.0.1', 'localhost']</p>\n",
    "\n",
    "<p>Create Database</p>\n",
    "\n",
    "> (myvenv) ~/<proj_dir>$ python settings.py migrate\n",
    "\n",
    "#### Starting the web server\n",
    "\n",
    "> (myvenv) ~/<proj_dir>$ python manage.py runserver\n",
    "\n",
    "#### Creating an application\n",
    "\n",
    "> (myvenv) ~/<proj_dir>$ python manage.py startapp blog\n",
    "\n",
    "<p>Add the app to mysite/settings.py to tell Django about the app</p>\n",
    "\n",
    "<p>INSTALLED_APPS = [<br>\n",
    "    'django.contrib.admin',<br>\n",
    "    'django.contrib.auth',<br>\n",
    "    'django.contrib.contenttypes',<br>\n",
    "    'django.contrib.sessions',<br>\n",
    "    'django.contrib.messages',<br>\n",
    "    'django.contrib.staticfiles',<br>\n",
    "    'blog',\n",
    "]</p>\n",
    "\n"
   ]
  },
  {
   "cell_type": "code",
   "execution_count": null,
   "metadata": {},
   "outputs": [],
   "source": [
    "# Creating our blogs Post model blog/models.py\n",
    "\n",
    "from django.conf import settings\n",
    "from django.db import models\n",
    "from django.utils import timezone\n",
    "\n",
    "\n",
    "class Post(models.Model):\n",
    "    author = models.ForeignKey(settings.AUTH_USER_MODEL, on_delete=models.CASCADE)\n",
    "    title = models.CharField(max_length=200)\n",
    "    text = models.TextField()\n",
    "    created_date = models.DateTimeField(default=timezone.now)\n",
    "    published_date = models.DateTimeField(blank=True, null=True)\n",
    "\n",
    "    def publish(self):\n",
    "        self.published_date = timezone.now()\n",
    "        self.save()\n",
    "\n",
    "    def __str__(self):\n",
    "        return self.title"
   ]
  },
  {
   "cell_type": "markdown",
   "metadata": {},
   "source": [
    "#### Creating tables in our database\n",
    "\n",
    "> (myvenv) ~/<proj_dir>$ python manage.py makemigrations blog\n",
    "\n",
    "#### Applying the created migration file to our database\n",
    "\n",
    "> (myvenv) ~/<proj_dir>$ python manage.py migrate blog\n",
    "\n",
    "## Django admin\n",
    "\n",
    "<p>To add, edit and delete the posts we've just modeled, we will use Django admin.</p>"
   ]
  },
  {
   "cell_type": "code",
   "execution_count": null,
   "metadata": {},
   "outputs": [],
   "source": [
    "# blog/admin.py\n",
    "\n",
    "from django.contrib import admin\n",
    "from .models import Post\n",
    "\n",
    "admin.site.register(Post)"
   ]
  },
  {
   "cell_type": "markdown",
   "metadata": {},
   "source": [
    "#### Creating a superuser for Admin\n",
    "\n",
    "> (myvenv) ~/<proj_dir>$ python manage.py createsuperuser\n",
    "\n",
    "<p>Visit http://localhost:8000/admin</p>"
   ]
  },
  {
   "cell_type": "markdown",
   "metadata": {},
   "source": [
    "## Pushing our project to Github\n",
    "\n",
    "> git init\n",
    "<br>\n",
    "> git add .\n",
    "<br>\n",
    "> git commit -m 'first commit'\n",
    "<br>\n",
    "> git remote add origin <git_repo_link>\n",
    "<br>\n",
    "> git push origin master\n",
    "\n",
    "## Deploying App on Heroku\n",
    "\n",
    "## Django URLs\n",
    "\n"
   ]
  },
  {
   "cell_type": "code",
   "execution_count": null,
   "metadata": {},
   "outputs": [],
   "source": [
    "# mysite/urls.py\n",
    "\n",
    "from django.contrib import admin\n",
    "from django.urls import path, include\n",
    "\n",
    "urlpatterns = [\n",
    "    path('admin/', admin.site.urls),\n",
    "    path('', include('blog.urls')),\n",
    "]"
   ]
  },
  {
   "cell_type": "markdown",
   "metadata": {},
   "source": [
    "## blog.urls\n",
    "\n",
    "<p>Create urls.py inside blog app and add the below code</p>"
   ]
  },
  {
   "cell_type": "code",
   "execution_count": null,
   "metadata": {},
   "outputs": [],
   "source": [
    "# blog/urls.py\n",
    "\n",
    "from django.urls import path\n",
    "from . import views\n",
    "\n",
    "urlpatterns = [\n",
    "    path('', views.post_list, name='post_list'),\n",
    "]"
   ]
  },
  {
   "cell_type": "markdown",
   "metadata": {},
   "source": [
    "## Django Views"
   ]
  },
  {
   "cell_type": "code",
   "execution_count": null,
   "metadata": {},
   "outputs": [],
   "source": [
    "# blog/views.py\n",
    "\n",
    "from django.shortcuts import render\n",
    "\n",
    "# Create your views here.\n",
    "\n",
    "def post_list(request):\n",
    "    return render(request, 'blog/post_list.html', {})"
   ]
  },
  {
   "cell_type": "markdown",
   "metadata": {},
   "source": [
    "<p>Create the following directories: blog --> templates --> blog</p>\n",
    "\n",
    "<p>Add post_list.html file with some sample HTML markup</p>\n",
    "\n",
    "<p>Push updates to Github</p>"
   ]
  },
  {
   "cell_type": "markdown",
   "metadata": {},
   "source": [
    "## Dynamic data in templates\n",
    "\n"
   ]
  },
  {
   "cell_type": "code",
   "execution_count": null,
   "metadata": {},
   "outputs": [],
   "source": [
    "# blog/views.py\n",
    "# add this to import Post\n",
    "\n",
    "from django.shortcuts import render\n",
    "from django.utils import timezone\n",
    "from .models import Post\n",
    "\n",
    "def post_list(request):\n",
    "    posts = Post.objects.filter(published_date__lte=timezone.now()).order_by('published_date')\n",
    "    return render(request, 'blog/post_list.html', {'posts': posts})"
   ]
  },
  {
   "cell_type": "code",
   "execution_count": null,
   "metadata": {},
   "outputs": [],
   "source": [
    "# blog/templates/blog/post_list.html\n",
    "\n",
    "{% for post in posts %}\n",
    "    <div>\n",
    "        <p>published: {{ post.published_date }}</p>\n",
    "        <h2><a href=\"\">{{ post.title }}</a></h2>\n",
    "        <p>{{ post.text|linebreaksbr }}</p>\n",
    "    </div>\n",
    "{% endfor %}"
   ]
  },
  {
   "cell_type": "markdown",
   "metadata": {},
   "source": [
    "## Template extending\n",
    "\n",
    "<p>Create blog/templates/blog/base.html</p>"
   ]
  },
  {
   "cell_type": "code",
   "execution_count": null,
   "metadata": {},
   "outputs": [],
   "source": [
    "<!DOCTYPE html>\n",
    "<html>\n",
    "<head>\n",
    "    <title>Hello!!</title>\n",
    "</head>\n",
    "<body>\n",
    "    <p>Hello from Base!!</p>\n",
    "\n",
    "    {% block content %}\n",
    "    {% endblock %}\n",
    "</body>\n",
    "</html>"
   ]
  },
  {
   "cell_type": "code",
   "execution_count": 1,
   "metadata": {
    "collapsed": true
   },
   "outputs": [
    {
     "ename": "SyntaxError",
     "evalue": "invalid syntax (<ipython-input-1-53f8e8487e89>, line 3)",
     "output_type": "error",
     "traceback": [
      "\u001b[0;36m  File \u001b[0;32m\"<ipython-input-1-53f8e8487e89>\"\u001b[0;36m, line \u001b[0;32m3\u001b[0m\n\u001b[0;31m    {% extends 'blog/base.html' %}\u001b[0m\n\u001b[0m     ^\u001b[0m\n\u001b[0;31mSyntaxError\u001b[0m\u001b[0;31m:\u001b[0m invalid syntax\n"
     ]
    }
   ],
   "source": [
    "# blog/templates/blog/post_list.html\n",
    "\n",
    "{% extends 'blog/base.html' %}\n",
    "\n",
    "{% block content %}\n",
    "\t{% for post in posts %}\n",
    "\t    <div>\n",
    "\t        <p>published: {{ post.published_date }}</p>\n",
    "\t        <h2><a href=\"\">{{ post.title }}</a></h2>\n",
    "\t        <p>{{ post.text|linebreaksbr }}</p>\n",
    "\t    </div>\n",
    "\t{% endfor %}\n",
    "{% endblock %}"
   ]
  },
  {
   "cell_type": "markdown",
   "metadata": {},
   "source": [
    "## Extending applications\n",
    "\n",
    "<p>Add the URL to anchor tag in post_list</p>"
   ]
  },
  {
   "cell_type": "code",
   "execution_count": null,
   "metadata": {},
   "outputs": [],
   "source": [
    "# blog/templates/blog/post_list.html\n",
    "\n",
    "<a href=\"{% url 'post_detail' pk=post.pk %}\">{{ post.title }}</a>"
   ]
  },
  {
   "cell_type": "code",
   "execution_count": null,
   "metadata": {},
   "outputs": [],
   "source": [
    "# Add url in blog/urls.py\n",
    "\n",
    "from django.urls import path\n",
    "from . import views\n",
    "\n",
    "urlpatterns = [\n",
    "    path('', views.post_list, name='post_list'),\n",
    "    path('post/<int:pk>/', views.post_detail, name='post_detail'),\n",
    "]"
   ]
  },
  {
   "cell_type": "code",
   "execution_count": null,
   "metadata": {},
   "outputs": [],
   "source": [
    "# Add post_detail view in blog/views.py\n",
    "\n",
    "from django.shortcuts import render, get_object_or_404\n",
    "\n",
    "def post_detail(request, pk):\n",
    "    post = get_object_or_404(Post, pk=pk)\n",
    "    return render(request, 'blog/post_detail.html', {'post': post})"
   ]
  },
  {
   "cell_type": "code",
   "execution_count": null,
   "metadata": {},
   "outputs": [],
   "source": [
    "# Create post_detail template in blog/templates/blog/post_detail.html\n",
    "\n",
    "{% extends 'blog/base.html' %}\n",
    "\n",
    "{% block content %}\n",
    "    <div class=\"post\">\n",
    "        {% if post.published_date %}\n",
    "            <div class=\"date\">\n",
    "                {{ post.published_date }}\n",
    "            </div>\n",
    "        {% endif %}\n",
    "        <h2>{{ post.title }}</h2>\n",
    "        <p>{{ post.text|linebreaksbr }}</p>\n",
    "    </div>\n",
    "{% endblock %}"
   ]
  }
 ],
 "metadata": {
  "kernelspec": {
   "display_name": "Python 2",
   "language": "python",
   "name": "python2"
  },
  "language_info": {
   "codemirror_mode": {
    "name": "ipython",
    "version": 2
   },
   "file_extension": ".py",
   "mimetype": "text/x-python",
   "name": "python",
   "nbconvert_exporter": "python",
   "pygments_lexer": "ipython2",
   "version": "2.7.12"
  }
 },
 "nbformat": 4,
 "nbformat_minor": 2
}
